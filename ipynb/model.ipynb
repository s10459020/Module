{
  "nbformat": 4,
  "nbformat_minor": 0,
  "metadata": {
    "colab": {
      "name": "model.ipynb",
      "provenance": [],
      "collapsed_sections": [],
      "toc_visible": true
    },
    "kernelspec": {
      "name": "python3",
      "display_name": "Python 3"
    },
    "language_info": {
      "name": "python"
    }
  },
  "cells": [
    {
      "cell_type": "markdown",
      "metadata": {
        "id": "0eiDYY8hPhh6"
      },
      "source": [
        "# AlexNet"
      ]
    },
    {
      "cell_type": "markdown",
      "metadata": {
        "id": "7FWcN0TTPhij"
      },
      "source": [
        "## Introduction  \n",
        "AlexNet是一個網路架構，AlexNet在曾經一個比賽中獲得了不錯的結果。  \n",
        "\n",
        "與其他架構(VGG, GoogleNet, ResidualNet)一樣都很有名。"
      ]
    },
    {
      "cell_type": "markdown",
      "metadata": {
        "id": "H8cnW0FjPv0L"
      },
      "source": [
        "## Structure\n",
        "\n",
        "[CRPNCRPNCRCRCRPFRDFRDFS]\n",
        "\n",
        "- C: Convolution  \n",
        "- R: Relu  \n",
        "- P: Pooling  \n",
        "- N: Normalization  \n",
        "- D: Dropout  \n",
        "- F: Full COnnected  \n",
        "- S: Softmax"
      ]
    },
    {
      "cell_type": "markdown",
      "metadata": {
        "id": "3oiI-fxaQe9V"
      },
      "source": [
        "## Calculate Size\n",
        "\n",
        "Image(227, 227, 3)  \n",
        "\n",
        "Conv size format:\n",
        "( (Image size - Filter size + 2*pad) / stride ) + 1\n",
        "\n",
        "Pooling format:\n",
        "( (Image size - Filter size + 2*pad) / stride ) + 1"
      ]
    },
    {
      "cell_type": "markdown",
      "metadata": {
        "id": "F2Mz17g4P9d_"
      },
      "source": [
        "# MyNet"
      ]
    }
  ]
}
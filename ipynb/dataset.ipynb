{
  "nbformat": 4,
  "nbformat_minor": 0,
  "metadata": {
    "colab": {
      "name": "dataset.ipynb",
      "provenance": [],
      "collapsed_sections": [
        "FJ9m2enVQwsT",
        "6JKFNVFNQzI3"
      ],
      "toc_visible": true
    },
    "kernelspec": {
      "name": "python3",
      "display_name": "Python 3"
    },
    "language_info": {
      "name": "python"
    }
  },
  "cells": [
    {
      "cell_type": "markdown",
      "metadata": {
        "id": "UZNPP17We6Jh"
      },
      "source": [
        "# Dependance"
      ]
    },
    {
      "cell_type": "code",
      "metadata": {
        "id": "fAi5MABRYrQ_"
      },
      "source": [
        "import numpy;"
      ],
      "execution_count": 7,
      "outputs": []
    },
    {
      "cell_type": "code",
      "metadata": {
        "id": "2JiUa2gBueN6"
      },
      "source": [
        "FLOAT = lambda x: float(x)"
      ],
      "execution_count": 8,
      "outputs": []
    },
    {
      "cell_type": "code",
      "metadata": {
        "id": "JETr6jHGfi9D"
      },
      "source": [
        "class Scanner:\n",
        "  def __init__(self, type):\n",
        "    self.type = type\n",
        "    self.tokens = None;\n",
        "\n",
        "  def scan(self, content):\n",
        "    return {\n",
        "        'csv': lambda x: self.scanCSV(x)\n",
        "    }[self.type](content)\n",
        "    \n",
        "  def scanCSV(self, content):\n",
        "    lines = content.split()\n",
        "    items = []\n",
        "\n",
        "    for line in lines:  \n",
        "      items.append( line.split(',') )\n",
        "\n",
        "    tokens = numpy.array(items)\n",
        "    return tokens\n"
      ],
      "execution_count": 5,
      "outputs": []
    },
    {
      "cell_type": "code",
      "metadata": {
        "id": "e019Nn2PhZ9l"
      },
      "source": [
        "class Parser:\n",
        "  def __init__(self, methods):\n",
        "    self.methods = methods\n",
        "  \n",
        "  def parse(self, slices):\n",
        "    methods = self.methods\n",
        "    items = []\n",
        "\n",
        "    for i in range( len(methods) ):\n",
        "      method = methods[i]\n",
        "      matrix = numpy.array(slices[i]).transpose()\n",
        "\n",
        "      for row in matrix:\n",
        "        newrow = list( map(lambda x: method(x), row) )\n",
        "        items.append( newrow )\n",
        "\n",
        "    datas = numpy.array(items).transpose()\n",
        "    return datas"
      ],
      "execution_count": 54,
      "outputs": []
    },
    {
      "cell_type": "markdown",
      "metadata": {
        "id": "P7C9MrDGdqAQ"
      },
      "source": [
        "# Iris\n",
        "- number\n",
        "- data \n",
        "- target\n",
        "- feature: 4\n",
        "- label: 1\n",
        "- types: Setosa, Versicolour, Virginica"
      ]
    },
    {
      "cell_type": "code",
      "metadata": {
        "id": "xrZmqI9seHyW"
      },
      "source": [
        "class Iris:\n",
        "  def __init__(self, content):\n",
        "    tokens = Scanner('csv').scan(content);\n",
        "\n",
        "    types = list( dict.fromkeys(tokens[:, 4]) )\n",
        "\n",
        "    data = Parser([\n",
        "      FLOAT\n",
        "    ]).parse([\n",
        "      tokens[:, 0:4]\n",
        "    ])\n",
        "    \n",
        "    target = Parser([\n",
        "      lambda x: types.index(x)\n",
        "    ]).parse([\n",
        "      tokens[:, 4:5]\n",
        "    ])\n",
        "\n",
        "    self.data = data\n",
        "    self.target = target\n",
        "    self.types = types\n",
        "    self.number = len(self.data)\n",
        "    self.feature = len(data[0])\n",
        "    self.label = len(target[0])"
      ],
      "execution_count": 56,
      "outputs": []
    },
    {
      "cell_type": "code",
      "metadata": {
        "colab": {
          "base_uri": "https://localhost:8080/"
        },
        "id": "QYw01084bmHU",
        "outputId": "1ee81ea0-08d8-4ee9-d8e2-73092f92dfd9"
      },
      "source": [
        "content = \"\\\n",
        "5.1,3.5,1.4,0.2,Iris-setosa\\n\\\n",
        "4.9,3.0,1.4,0.2,Iris-setosa\\n\\\n",
        "4.7,3.2,1.3,0.2,Iris-setosa\\n\\\n",
        "4.6,3.1,1.5,0.2,Iris-setosa\\n\\\n",
        "5.6,3.0,4.1,1.3,Iris-versicolor\\n\\\n",
        "5.0,3.6,1.4,0.2,Iris-setosa\\n\\\n",
        "\"\n",
        "\n",
        "iris = Iris(content)\n",
        "print(iris.data)\n",
        "print(iris.target)"
      ],
      "execution_count": 62,
      "outputs": [
        {
          "output_type": "stream",
          "text": [
            "[[5.1 3.5 1.4 0.2]\n",
            " [4.9 3.  1.4 0.2]\n",
            " [4.7 3.2 1.3 0.2]\n",
            " [4.6 3.1 1.5 0.2]\n",
            " [5.6 3.  4.1 1.3]\n",
            " [5.  3.6 1.4 0.2]]\n",
            "[[0]\n",
            " [0]\n",
            " [0]\n",
            " [0]\n",
            " [1]\n",
            " [0]]\n"
          ],
          "name": "stdout"
        }
      ]
    },
    {
      "cell_type": "markdown",
      "metadata": {
        "id": "szbYgCxoOcX6"
      },
      "source": [
        "# Imagenet\n",
        "\n",
        "Imagenet是一個大型的Datasets，有超過1500萬的影像，類別超過22000。  \n",
        "\n",
        "有分 Training Set, Validation Set, Testing Set"
      ]
    },
    {
      "cell_type": "markdown",
      "metadata": {
        "id": "FJ9m2enVQwsT"
      },
      "source": [
        "# MNest"
      ]
    },
    {
      "cell_type": "code",
      "metadata": {
        "id": "Od0mdU6XQyN9"
      },
      "source": [
        ""
      ],
      "execution_count": null,
      "outputs": []
    },
    {
      "cell_type": "markdown",
      "metadata": {
        "id": "6JKFNVFNQzI3"
      },
      "source": [
        "# CIFAR-10"
      ]
    },
    {
      "cell_type": "code",
      "metadata": {
        "id": "w1oqOwFJQ0NC"
      },
      "source": [
        ""
      ],
      "execution_count": null,
      "outputs": []
    },
    {
      "cell_type": "markdown",
      "metadata": {
        "id": "Lthm3hCkdr0R"
      },
      "source": [
        "# Waveform"
      ]
    },
    {
      "cell_type": "code",
      "metadata": {
        "id": "CB61Fyptds_x"
      },
      "source": [
        ""
      ],
      "execution_count": null,
      "outputs": []
    },
    {
      "cell_type": "markdown",
      "metadata": {
        "id": "0nRn9CHvdvoJ"
      },
      "source": [
        "# WDBC"
      ]
    },
    {
      "cell_type": "code",
      "metadata": {
        "id": "XzK5R-I2dxe0"
      },
      "source": [
        ""
      ],
      "execution_count": null,
      "outputs": []
    }
  ]
}